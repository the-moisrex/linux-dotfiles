{
 "cells": [
  {
   "cell_type": "markdown",
   "id": "c9d354a4-f694-458f-9c89-0c632ee15648",
   "metadata": {},
   "source": [
    "# {PageTitle}\n",
    "{PageDesc}"
   ]
  },
  {
   "cell_type": "code",
   "execution_count": 1,
   "id": "ebab4413-85c4-4117-932e-54e2b15dc9cc",
   "metadata": {},
   "outputs": [],
   "source": [
    "import math\n",
    "import numpy as np\n",
    "import matplotlib.pyplot as plt\n",
    "%matplotlib inline"
   ]
  },
  {
   "cell_type": "code",
   "execution_count": null,
   "id": "9bfc31cb-c45d-4c63-8e4b-871ba3616e92",
   "metadata": {},
   "outputs": [],
   "source": []
  }
 ],
 "metadata": {
  "kernelspec": {
   "display_name": "Python 3 (ipykernel)",
   "language": "python",
   "name": "python3"
  },
  "language_info": {
   "codemirror_mode": {
    "name": "ipython",
    "version": 3
   },
   "file_extension": ".py",
   "mimetype": "text/x-python",
   "name": "python",
   "nbconvert_exporter": "python",
   "pygments_lexer": "ipython3",
   "version": "${PythonVersion}"
  }
 },
 "nbformat": 4,
 "nbformat_minor": 5
}
